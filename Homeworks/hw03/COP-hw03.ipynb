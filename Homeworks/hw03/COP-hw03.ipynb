{
 "cells": [
  {
   "cell_type": "markdown",
   "id": "ebcbcaed-bbe0-46a1-bee4-8adaba9dbfa2",
   "metadata": {},
   "source": [
    "### 阅读文献，叙述一类随机数生成原理：[硬件随机数生成器](https://zh.wikipedia.org/zh-cn/%E7%A1%AC%E4%BB%B6%E9%9A%8F%E6%9C%BA%E6%95%B0%E7%94%9F%E6%88%90%E5%99%A8)"
   ]
  },
  {
   "cell_type": "markdown",
   "id": "0cf6a886-b3c2-44b8-865b-ac1a1208a318",
   "metadata": {},
   "source": [
    "#### [量子随机数发生器](https://www.zgbk.com/ecph/words?SiteID=1&ID=34401&Type=bkzyb&SubID=81382)"
   ]
  },
  {
   "cell_type": "markdown",
   "id": "ca85483d-ae5d-4af7-ac67-3924f3d23cbf",
   "metadata": {},
   "source": [
    "#### 利用量子力学中量子态可叠加和分解的特性，以及转换成经典粒子特性时的测量塌缩的随机性，得到基于量子物理学基本原理的真随机码串的一种装置。这种随机性起源于 量子物理学中关于微观世界的波粒二象性，其随机性无法进行人为控制，完全由物理学定律决定，由此产生的随机数称为量子随机数发生器。在密码学、博弈等需要随机数不可控制的应用场合具有重要价值。量子随机数发生器可以分为三大类：第一类是实用化的量子随机数发生器，这类发生器需要充分信任设备，即只有可靠的设备产生的随机数才能产生量子随机数，这种量子随机数发生器的码产生率可以很高；第二类是可自检测的量子随机数发生器，可以在不需要保证设备完全可信的条件下产生量子随机数；第三类是半自检测量子随机数发生器，它介于前两类之回，只需要部分信任设备就能获得相对较高速率的量子随机数。"
   ]
  },
  {
   "cell_type": "code",
   "execution_count": null,
   "id": "aaebc545-5659-4a09-8ccd-36b4b786e07e",
   "metadata": {},
   "outputs": [],
   "source": []
  },
  {
   "cell_type": "markdown",
   "id": "07cef33b-8a09-4798-a490-6a60ba71da2b",
   "metadata": {},
   "source": [
    "### [TestU01测试工具](http://simul.iro.umontreal.ca/testu01/tu01.html)\n"
   ]
  }
 ],
 "metadata": {
  "kernelspec": {
   "display_name": "Python 3 (ipykernel)",
   "language": "python",
   "name": "python3"
  },
  "language_info": {
   "codemirror_mode": {
    "name": "ipython",
    "version": 3
   },
   "file_extension": ".py",
   "mimetype": "text/x-python",
   "name": "python",
   "nbconvert_exporter": "python",
   "pygments_lexer": "ipython3",
   "version": "3.9.6"
  }
 },
 "nbformat": 4,
 "nbformat_minor": 5
}
