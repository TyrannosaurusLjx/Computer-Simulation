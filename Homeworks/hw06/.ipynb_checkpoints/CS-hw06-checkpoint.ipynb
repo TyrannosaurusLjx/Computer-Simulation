{
 "cells": [
  {
   "cell_type": "markdown",
   "id": "46c1e151-764a-4872-8cf6-66a5a3cf4aad",
   "metadata": {},
   "source": [
    "#### 计算$\\Phi(t)=\\int_{-\\infty}^t\\frac{1}{\\sqrt{2\\pi}}e^{-\\frac{x^2}{2}}dx$"
   ]
  },
  {
   "cell_type": "code",
   "execution_count": null,
   "id": "0fa0d9f4-a854-4066-bad7-697dfdad43ff",
   "metadata": {},
   "outputs": [],
   "source": [
    "from scipy.stats import norm"
   ]
  }
 ],
 "metadata": {
  "kernelspec": {
   "display_name": "Python 3 (ipykernel)",
   "language": "python",
   "name": "python3"
  },
  "language_info": {
   "codemirror_mode": {
    "name": "ipython",
    "version": 3
   },
   "file_extension": ".py",
   "mimetype": "text/x-python",
   "name": "python",
   "nbconvert_exporter": "python",
   "pygments_lexer": "ipython3",
   "version": "3.9.6"
  }
 },
 "nbformat": 4,
 "nbformat_minor": 5
}
